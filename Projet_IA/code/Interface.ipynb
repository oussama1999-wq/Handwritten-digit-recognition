{
 "cells": [
  {
   "cell_type": "markdown",
   "metadata": {},
   "source": [
    "# Importation Des Librairies"
   ]
  },
  {
   "cell_type": "code",
   "execution_count": 1,
   "metadata": {},
   "outputs": [],
   "source": [
    "from tkinter import *\n",
    "import tkinter as tk\n",
    "import win32gui\n",
    "from PIL import ImageGrab, Image\n",
    "import numpy as np"
   ]
  },
  {
   "cell_type": "code",
   "execution_count": 2,
   "metadata": {},
   "outputs": [],
   "source": [
    "import matplotlib.pyplot as plt\n",
    "import pandas as pd\n",
    "import numpy\n",
    "import collections\n",
    "from sklearn.linear_model import LinearRegression\n",
    "import numpy as np\n",
    "import collections\n",
    "from skimage.transform import resize"
   ]
  },
  {
   "cell_type": "markdown",
   "metadata": {},
   "source": [
    "# fonction qui divise an array "
   ]
  },
  {
   "cell_type": "code",
   "execution_count": 3,
   "metadata": {},
   "outputs": [],
   "source": [
    "\n",
    "def blockshaped(arr, nrows, ncols):\n",
    "    return (arr.reshape(h//nrows, nrows, -1, ncols)\n",
    "               .swapaxes(1,2)\n",
    "               .reshape(-1, nrows, ncols))"
   ]
  },
  {
   "cell_type": "markdown",
   "metadata": {},
   "source": [
    "# Prediction"
   ]
  },
  {
   "cell_type": "code",
   "execution_count": 15,
   "metadata": {},
   "outputs": [],
   "source": [
    "def softmax(Z):\n",
    "    A = np.exp(Z) / sum(np.exp(Z))\n",
    "    return A\n",
    "def ReLU(Z):\n",
    "    return np.maximum(Z, 0)    \n",
    "def forward_prop(W1, b1, W2, b2, X):\n",
    "    Z1 = W1.dot(X) + b1\n",
    "    A1 = ReLU(Z1)\n",
    "    Z2 = W2.dot(A1) + b2\n",
    "    A2 = softmax(Z2)\n",
    "    return Z1, A1, Z2, A2\n",
    "def get_predictions(A2):\n",
    "    return np.argmax(A2, 0)\n",
    "def make_predictions(X, W1, b1, W2, b2):\n",
    "    _, _, _, A2 = forward_prop(W1, b1, W2, b2, X)\n",
    "    predictions = get_predictions(A2)\n",
    "    max=np.max(A2)\n",
    "    return predictions,max\n",
    "def test_prediction(image, W1, b1, W2, b2):\n",
    "    prediction,max = make_predictions(image, W1, b1, W2, b2)\n",
    "    prediction=prediction[0]\n",
    "    return prediction,max"
   ]
  },
  {
   "cell_type": "markdown",
   "metadata": {},
   "source": [
    "# features extraction pour image inserer par user"
   ]
  },
  {
   "cell_type": "code",
   "execution_count": 16,
   "metadata": {},
   "outputs": [],
   "source": [
    "def extract_image(img):\n",
    "    features = []\n",
    "    out=[]\n",
    "    b_pentes = []\n",
    "    first_feature = []\n",
    "    deuxieme_feature = []\n",
    "    troisieme_feature = []\n",
    "    df = pd.DataFrame(img)\n",
    "    df=df.loc[(df != 0).any(axis=1), (df != 0).any(axis=0)]\n",
    "    data=df.to_numpy()\n",
    "    img = resize(data, (28,28),anti_aliasing=True)\n",
    "### extraction de la pente b de toutes les sousmatrices############\n",
    "    for k in range(0,16):\n",
    "        flat_numpy = numpy.array(blockshaped(img,7,7)[k].flatten())\n",
    "        nb_blackcell_parcell = (49-collections.Counter(flat_numpy)[0])/49\n",
    "        first_feature.append(nb_blackcell_parcell)\n",
    "        x_data = []\n",
    "        y_data = []\n",
    "        for i in range(0,7):\n",
    "            for j in range(0,7):\n",
    "                if(blockshaped(img,7,7)[k][i,j]>0):\n",
    "                    x_data.append(i)\n",
    "                    y_data.append(j)\n",
    "                    #z = np.polyfit(x_data, y_data, 1)\n",
    "                    a=numpy.array(x_data).reshape(-1,1)\n",
    "                    a=a.reshape(-1,1)\n",
    "                    model = LinearRegression()\n",
    "                    model.fit(a,y_data)\n",
    "                    pred = model.predict(a)\n",
    "        b_pentes.append(model.coef_[0])\n",
    "        deuxieme_feature =[((2*i)/(1+i*i)) for i in b_pentes]\n",
    "        troisieme_feature = [(1-i*i)/(1+i*i) for i in b_pentes]\n",
    "    out.append(first_feature+deuxieme_feature+troisieme_feature)#+[downloaded_test[5999][1]])\n",
    "    matrice= np.array(out[0]).reshape(1,-1)\n",
    "    #numpy.savetxt(r'C:\\Users\\taoul\\OneDrive\\Bureau\\image9.csv', matrice, delimiter=\",\")\n",
    "    return matrice"
   ]
  },
  {
   "cell_type": "markdown",
   "metadata": {},
   "source": [
    "# Chargement de W1, b1,W2,b2"
   ]
  },
  {
   "cell_type": "code",
   "execution_count": 17,
   "metadata": {},
   "outputs": [],
   "source": [
    "from numpy import genfromtxt\n",
    "W1 = genfromtxt(r'W1.csv', delimiter=',')\n",
    "b1 = genfromtxt(r'b1.csv', delimiter=',')\n",
    "W2 = genfromtxt(r'W2.csv', delimiter=',')\n",
    "b2 = genfromtxt(r'b2.csv', delimiter=',')"
   ]
  },
  {
   "cell_type": "code",
   "execution_count": 20,
   "metadata": {},
   "outputs": [],
   "source": [
    "b2 =b2.reshape(-1,1)\n",
    "b1 = b1.reshape(-1,1)"
   ]
  },
  {
   "cell_type": "markdown",
   "metadata": {},
   "source": [
    "# Interface graphique"
   ]
  },
  {
   "cell_type": "code",
   "execution_count": 21,
   "metadata": {},
   "outputs": [],
   "source": [
    "from tkinter import *\n",
    "import tkinter.font as tkFont\n",
    "import win32gui\n",
    "from PIL import ImageGrab, Image\n",
    "import numpy as np\n",
    "\n",
    "\n",
    "'''\n",
    "Let us deploy the model in the python application using tkinter\n",
    "'''\n",
    "class application(Frame):\n",
    "    def __init__(self,master):\n",
    "        super().__init__(master)\n",
    "        self.fontStyle = tkFont.Font(family=\"Lucida Grande\", size=20)\n",
    "        self.master=master\n",
    "        self.pack()\n",
    "        self.createWidget()\n",
    "\n",
    "    def createWidget(self):\n",
    "        self.canvas = Canvas(self,width=224,height=224,bg='black')\n",
    "        self.canvas.pack(expand=YES, fill=BOTH)\n",
    "        self.canvas.bind('<B1-Motion>',self.activate_paint)\n",
    "\n",
    "    def activate_paint(self, event):\n",
    "        global lastx, lasty\n",
    "        self.canvas.bind('<B1-Motion>', self.paint)\n",
    "        lastx, lasty = event.x, event.y\n",
    "\n",
    "    def paint(self,event):\n",
    "        global lastx, lasty\n",
    "        x, y = event.x, event.y\n",
    "        self.canvas.create_line((lastx, lasty, x, y), width=12, fill='white')\n",
    "\n",
    "        lastx, lasty = x, y\n",
    "\n",
    "    def clearCanvas(self):\n",
    "        self.canvas.delete(\"all\")\n",
    "        answer.configure(text='Answer Goes Here', font=self.fontStyle)\n",
    "        self.canvas.bind('<B1-Motion>',self.activate_paint)\n",
    "\n",
    "    def predicted_result(self, data):\n",
    "        ans = data.argsort()[-8:][::-1]  #sorting in descending\n",
    "        return ans\n",
    "\n",
    "\n",
    "    def predictDigit(self):\n",
    "        HWND = self.canvas.winfo_id()  # get the handle of the canvas\n",
    "        rect = win32gui.GetWindowRect(HWND)  # get the coordinate of the canvas\n",
    "        im = ImageGrab.grab(rect) # get image of the current location\n",
    "        im.save('file.png')\n",
    "\n",
    "        img = Image.open('file.png').convert('L')\n",
    "        img = img.resize((28,28), Image.ANTIALIAS)\n",
    "        img.save('resized.png')\n",
    "\n",
    "        #after resizing the image data\n",
    "        #convert to np array\n",
    "\n",
    "        data = np.array(img)\n",
    "        for i in range(0,28):\n",
    "            for j in range(0,28):\n",
    "                if data[i][j]<90:\n",
    "                    data[i][j]=0\n",
    "                \n",
    "        image = extract_image(data).T\n",
    "        predictionk,proba= test_prediction(image, W1, b1, W2, b2)\n",
    "\n",
    "        #import the model\n",
    "        \n",
    "        answer.configure(text='Predicted Digit: '+str(predictionk)+'\\nWith probability :'+str(round(proba,2)), font=self.fontStyle)\n",
    "\n",
    "        \n",
    "if __name__ == '__main__':\n",
    "    root = Tk()\n",
    "    root.geometry('300x400')\n",
    "    \n",
    "    \n",
    "    app=application(root)\n",
    "    # let us create button to clear the drawn items and predict the value\n",
    "\n",
    "    clear = Button(root, text='Clear', command=app.clearCanvas)\n",
    "    clear.pack()\n",
    "\n",
    "    predict = Button(root, text='Predict', command=app.predictDigit)\n",
    "    predict.pack()\n",
    "\n",
    "    answer = Label(root, text=\"Answer Goes Here\", font=app.fontStyle)\n",
    "    answer.pack()\n",
    "\n",
    "    root.title('Draw a Digit')\n",
    "    root.mainloop()"
   ]
  },
  {
   "cell_type": "code",
   "execution_count": null,
   "metadata": {},
   "outputs": [],
   "source": []
  }
 ],
 "metadata": {
  "kernelspec": {
   "display_name": "Python 3",
   "language": "python",
   "name": "python3"
  },
  "language_info": {
   "codemirror_mode": {
    "name": "ipython",
    "version": 3
   },
   "file_extension": ".py",
   "mimetype": "text/x-python",
   "name": "python",
   "nbconvert_exporter": "python",
   "pygments_lexer": "ipython3",
   "version": "3.8.5"
  }
 },
 "nbformat": 4,
 "nbformat_minor": 4
}
